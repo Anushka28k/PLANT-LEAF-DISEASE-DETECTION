{
  "cells": [
    {
      "cell_type": "markdown",
      "source": [],
      "metadata": {
        "id": "UbKuLM-TeDXx"
      }
    },
    {
      "cell_type": "markdown",
      "metadata": {
        "id": "DQEvkDS7TPuy"
      },
      "source": [
        "### Import Dependencies"
      ]
    },
    {
      "cell_type": "code",
      "execution_count": null,
      "metadata": {
        "id": "5z2DCXjHTPu1",
        "colab": {
          "base_uri": "https://localhost:8080/",
          "height": 17
        },
        "outputId": "31418ada-d26e-4a5a-e38d-2a52ddaf943e"
      },
      "outputs": [
        {
          "output_type": "display_data",
          "data": {
            "text/plain": [
              "<IPython.core.display.Javascript object>"
            ],
            "application/javascript": [
              "\n",
              "            setTimeout(function() {\n",
              "                var nbb_cell_id = 6;\n",
              "                var nbb_unformatted_code = \"import numpy as np\\nimport pandas as pd\\nimport matplotlib.pyplot as plt\";\n",
              "                var nbb_formatted_code = \"import numpy as np\\nimport pandas as pd\\nimport matplotlib.pyplot as plt\";\n",
              "                var nbb_cells = Jupyter.notebook.get_cells();\n",
              "                for (var i = 0; i < nbb_cells.length; ++i) {\n",
              "                    if (nbb_cells[i].input_prompt_number == nbb_cell_id) {\n",
              "                        if (nbb_cells[i].get_text() == nbb_unformatted_code) {\n",
              "                             nbb_cells[i].set_text(nbb_formatted_code);\n",
              "                        }\n",
              "                        break;\n",
              "                    }\n",
              "                }\n",
              "            }, 500);\n",
              "            "
            ]
          },
          "metadata": {}
        }
      ],
      "source": [
        "import numpy as np\n",
        "import pandas as pd\n",
        "import matplotlib.pyplot as plt"
      ]
    },
    {
      "cell_type": "code",
      "execution_count": null,
      "metadata": {
        "id": "m4WA3bcRTPu2",
        "colab": {
          "base_uri": "https://localhost:8080/",
          "height": 17
        },
        "outputId": "58510b3d-09f2-426b-fad0-308b220ab445"
      },
      "outputs": [
        {
          "output_type": "display_data",
          "data": {
            "text/plain": [
              "<IPython.core.display.Javascript object>"
            ],
            "application/javascript": [
              "\n",
              "            setTimeout(function() {\n",
              "                var nbb_cell_id = 7;\n",
              "                var nbb_unformatted_code = \"import torch\\nfrom torchvision import datasets, transforms, models  # datsets  , transforms\\nfrom torch.utils.data.sampler import SubsetRandomSampler\\nimport torch.nn as nn\\nimport torch.nn.functional as F\\nfrom datetime import datetime\\nfrom torchvision import transforms\";\n",
              "                var nbb_formatted_code = \"import torch\\nfrom torchvision import datasets, transforms, models  # datsets  , transforms\\nfrom torch.utils.data.sampler import SubsetRandomSampler\\nimport torch.nn as nn\\nimport torch.nn.functional as F\\nfrom datetime import datetime\\nfrom torchvision import transforms\";\n",
              "                var nbb_cells = Jupyter.notebook.get_cells();\n",
              "                for (var i = 0; i < nbb_cells.length; ++i) {\n",
              "                    if (nbb_cells[i].input_prompt_number == nbb_cell_id) {\n",
              "                        if (nbb_cells[i].get_text() == nbb_unformatted_code) {\n",
              "                             nbb_cells[i].set_text(nbb_formatted_code);\n",
              "                        }\n",
              "                        break;\n",
              "                    }\n",
              "                }\n",
              "            }, 500);\n",
              "            "
            ]
          },
          "metadata": {}
        }
      ],
      "source": [
        "import torch\n",
        "from torchvision import datasets, transforms, models  # datsets  , transforms\n",
        "from torch.utils.data.sampler import SubsetRandomSampler\n",
        "import torch.nn as nn\n",
        "import torch.nn.functional as F\n",
        "from datetime import datetime\n",
        "from torchvision import transforms"
      ]
    },
    {
      "cell_type": "code",
      "execution_count": null,
      "metadata": {
        "colab": {
          "base_uri": "https://localhost:8080/"
        },
        "id": "g9MBYXgRRNkP",
        "outputId": "7f74e8a7-28d8-48fa-9738-74f845a6076a"
      },
      "outputs": [
        {
          "output_type": "stream",
          "name": "stdout",
          "text": [
            "Looking in indexes: https://pypi.org/simple, https://us-python.pkg.dev/colab-wheels/public/simple/\n",
            "Requirement already satisfied: nb-black in /usr/local/lib/python3.7/dist-packages (1.0.7)\n",
            "Requirement already satisfied: ipython in /usr/local/lib/python3.7/dist-packages (from nb-black) (7.19.0)\n",
            "Requirement already satisfied: black>='19.3' in /usr/local/lib/python3.7/dist-packages (from nb-black) (22.3.0)\n",
            "Requirement already satisfied: typing-extensions>=3.10.0.0 in /usr/local/lib/python3.7/dist-packages (from black>='19.3'->nb-black) (4.2.0)\n",
            "Requirement already satisfied: typed-ast>=1.4.2 in /usr/local/lib/python3.7/dist-packages (from black>='19.3'->nb-black) (1.5.4)\n",
            "Requirement already satisfied: tomli>=1.1.0 in /usr/local/lib/python3.7/dist-packages (from black>='19.3'->nb-black) (2.0.1)\n",
            "Requirement already satisfied: click>=8.0.0 in /usr/local/lib/python3.7/dist-packages (from black>='19.3'->nb-black) (8.1.3)\n",
            "Requirement already satisfied: platformdirs>=2 in /usr/local/lib/python3.7/dist-packages (from black>='19.3'->nb-black) (2.5.2)\n",
            "Requirement already satisfied: pathspec>=0.9.0 in /usr/local/lib/python3.7/dist-packages (from black>='19.3'->nb-black) (0.9.0)\n",
            "Requirement already satisfied: mypy-extensions>=0.4.3 in /usr/local/lib/python3.7/dist-packages (from black>='19.3'->nb-black) (0.4.3)\n",
            "Requirement already satisfied: importlib-metadata in /usr/local/lib/python3.7/dist-packages (from click>=8.0.0->black>='19.3'->nb-black) (4.11.4)\n",
            "Requirement already satisfied: zipp>=0.5 in /usr/local/lib/python3.7/dist-packages (from importlib-metadata->click>=8.0.0->black>='19.3'->nb-black) (3.8.0)\n",
            "Requirement already satisfied: traitlets>=4.2 in /usr/local/lib/python3.7/dist-packages (from ipython->nb-black) (5.1.1)\n",
            "Requirement already satisfied: backcall in /usr/local/lib/python3.7/dist-packages (from ipython->nb-black) (0.2.0)\n",
            "Requirement already satisfied: pygments in /usr/local/lib/python3.7/dist-packages (from ipython->nb-black) (2.6.1)\n",
            "Requirement already satisfied: pexpect>4.3 in /usr/local/lib/python3.7/dist-packages (from ipython->nb-black) (4.8.0)\n",
            "Requirement already satisfied: prompt-toolkit!=3.0.0,!=3.0.1,<3.1.0,>=2.0.0 in /usr/local/lib/python3.7/dist-packages (from ipython->nb-black) (3.0.29)\n",
            "Requirement already satisfied: decorator in /usr/local/lib/python3.7/dist-packages (from ipython->nb-black) (4.4.2)\n",
            "Requirement already satisfied: jedi>=0.10 in /usr/local/lib/python3.7/dist-packages (from ipython->nb-black) (0.18.1)\n",
            "Requirement already satisfied: pickleshare in /usr/local/lib/python3.7/dist-packages (from ipython->nb-black) (0.7.5)\n",
            "Requirement already satisfied: setuptools>=18.5 in /usr/local/lib/python3.7/dist-packages (from ipython->nb-black) (57.4.0)\n",
            "Requirement already satisfied: parso<0.9.0,>=0.8.0 in /usr/local/lib/python3.7/dist-packages (from jedi>=0.10->ipython->nb-black) (0.8.3)\n",
            "Requirement already satisfied: ptyprocess>=0.5 in /usr/local/lib/python3.7/dist-packages (from pexpect>4.3->ipython->nb-black) (0.7.0)\n",
            "Requirement already satisfied: wcwidth in /usr/local/lib/python3.7/dist-packages (from prompt-toolkit!=3.0.0,!=3.0.1,<3.1.0,>=2.0.0->ipython->nb-black) (0.2.5)\n"
          ]
        },
        {
          "output_type": "stream",
          "name": "stderr",
          "text": [
            "ERROR:root:Cannot parse: 1:4: pip install nb-black\n",
            "Traceback (most recent call last):\n",
            "  File \"/usr/local/lib/python3.7/dist-packages/lab_black.py\", line 218, in format_cell\n",
            "    formatted_code = _format_code(cell)\n",
            "  File \"/usr/local/lib/python3.7/dist-packages/lab_black.py\", line 29, in _format_code\n",
            "    return format_str(src_contents=code, mode=FileMode())\n",
            "  File \"src/black/__init__.py\", line 1154, in format_str\n",
            "  File \"src/black/__init__.py\", line 1164, in _format_str_once\n",
            "  File \"src/black/parsing.py\", line 128, in lib2to3_parse\n",
            "black.parsing.InvalidInput: Cannot parse: 1:4: pip install nb-black\n"
          ]
        }
      ],
      "source": [
        "pip install nb-black"
      ]
    },
    {
      "cell_type": "code",
      "execution_count": null,
      "metadata": {
        "colab": {
          "base_uri": "https://localhost:8080/"
        },
        "id": "B3Ddy3GmSAgQ",
        "outputId": "8b3dfcfd-02fc-4205-d7e9-589f7c9c064b"
      },
      "outputs": [
        {
          "output_type": "stream",
          "name": "stdout",
          "text": [
            "Looking in indexes: https://pypi.org/simple, https://us-python.pkg.dev/colab-wheels/public/simple/\n",
            "Requirement already satisfied: ipython==7.19.0 in /usr/local/lib/python3.7/dist-packages (7.19.0)\n",
            "Requirement already satisfied: pexpect>4.3 in /usr/local/lib/python3.7/dist-packages (from ipython==7.19.0) (4.8.0)\n",
            "Requirement already satisfied: pygments in /usr/local/lib/python3.7/dist-packages (from ipython==7.19.0) (2.6.1)\n",
            "Requirement already satisfied: pickleshare in /usr/local/lib/python3.7/dist-packages (from ipython==7.19.0) (0.7.5)\n",
            "Requirement already satisfied: traitlets>=4.2 in /usr/local/lib/python3.7/dist-packages (from ipython==7.19.0) (5.1.1)\n",
            "Requirement already satisfied: decorator in /usr/local/lib/python3.7/dist-packages (from ipython==7.19.0) (4.4.2)\n",
            "Requirement already satisfied: prompt-toolkit!=3.0.0,!=3.0.1,<3.1.0,>=2.0.0 in /usr/local/lib/python3.7/dist-packages (from ipython==7.19.0) (3.0.29)\n",
            "Requirement already satisfied: jedi>=0.10 in /usr/local/lib/python3.7/dist-packages (from ipython==7.19.0) (0.18.1)\n",
            "Requirement already satisfied: setuptools>=18.5 in /usr/local/lib/python3.7/dist-packages (from ipython==7.19.0) (57.4.0)\n",
            "Requirement already satisfied: backcall in /usr/local/lib/python3.7/dist-packages (from ipython==7.19.0) (0.2.0)\n",
            "Requirement already satisfied: parso<0.9.0,>=0.8.0 in /usr/local/lib/python3.7/dist-packages (from jedi>=0.10->ipython==7.19.0) (0.8.3)\n",
            "Requirement already satisfied: ptyprocess>=0.5 in /usr/local/lib/python3.7/dist-packages (from pexpect>4.3->ipython==7.19.0) (0.7.0)\n",
            "Requirement already satisfied: wcwidth in /usr/local/lib/python3.7/dist-packages (from prompt-toolkit!=3.0.0,!=3.0.1,<3.1.0,>=2.0.0->ipython==7.19.0) (0.2.5)\n"
          ]
        },
        {
          "output_type": "stream",
          "name": "stderr",
          "text": [
            "ERROR:root:Cannot parse: 1:4: pip install ipython==7.19.0\n",
            "Traceback (most recent call last):\n",
            "  File \"/usr/local/lib/python3.7/dist-packages/lab_black.py\", line 218, in format_cell\n",
            "    formatted_code = _format_code(cell)\n",
            "  File \"/usr/local/lib/python3.7/dist-packages/lab_black.py\", line 29, in _format_code\n",
            "    return format_str(src_contents=code, mode=FileMode())\n",
            "  File \"src/black/__init__.py\", line 1154, in format_str\n",
            "  File \"src/black/__init__.py\", line 1164, in _format_str_once\n",
            "  File \"src/black/parsing.py\", line 128, in lib2to3_parse\n",
            "black.parsing.InvalidInput: Cannot parse: 1:4: pip install ipython==7.19.0\n"
          ]
        }
      ],
      "source": [
        "pip install ipython==7.19.0"
      ]
    },
    {
      "cell_type": "code",
      "execution_count": null,
      "metadata": {
        "colab": {
          "base_uri": "https://localhost:8080/",
          "height": 52
        },
        "id": "1Uet9bCuTPu3",
        "outputId": "11f3ffba-0408-49bb-b196-41b9eeb7404b"
      },
      "outputs": [
        {
          "output_type": "stream",
          "name": "stdout",
          "text": [
            "The nb_black extension is already loaded. To reload it, use:\n",
            "  %reload_ext nb_black\n"
          ]
        },
        {
          "output_type": "display_data",
          "data": {
            "text/plain": [
              "<IPython.core.display.Javascript object>"
            ],
            "application/javascript": [
              "\n",
              "            setTimeout(function() {\n",
              "                var nbb_cell_id = 10;\n",
              "                var nbb_unformatted_code = \"%load_ext nb_black\";\n",
              "                var nbb_formatted_code = \"%load_ext nb_black\";\n",
              "                var nbb_cells = Jupyter.notebook.get_cells();\n",
              "                for (var i = 0; i < nbb_cells.length; ++i) {\n",
              "                    if (nbb_cells[i].input_prompt_number == nbb_cell_id) {\n",
              "                        if (nbb_cells[i].get_text() == nbb_unformatted_code) {\n",
              "                             nbb_cells[i].set_text(nbb_formatted_code);\n",
              "                        }\n",
              "                        break;\n",
              "                    }\n",
              "                }\n",
              "            }, 500);\n",
              "            "
            ]
          },
          "metadata": {}
        }
      ],
      "source": [
        "%load_ext nb_black"
      ]
    },
    {
      "cell_type": "markdown",
      "metadata": {
        "id": "LMtjIO4rTPu3"
      },
      "source": [
        "### Import Dataset"
      ]
    },
    {
      "cell_type": "markdown",
      "metadata": {
        "id": "okYS4s0_TPu4"
      },
      "source": [
        "<b> Dataset Link (Plant Vliiage Dataset ):</b><br> <a href='https://data.mendeley.com/datasets/tywbtsjrjv/1'> https://data.mendeley.com/datasets/tywbtsjrjv/1 </a>"
      ]
    },
    {
      "cell_type": "code",
      "execution_count": null,
      "metadata": {
        "colab": {
          "base_uri": "https://localhost:8080/",
          "height": 17
        },
        "id": "LoZOtU5rTPu4",
        "outputId": "d0e6ab88-276d-45bc-8506-edc2c081c261"
      },
      "outputs": [
        {
          "output_type": "display_data",
          "data": {
            "text/plain": [
              "<IPython.core.display.Javascript object>"
            ],
            "application/javascript": [
              "\n",
              "            setTimeout(function() {\n",
              "                var nbb_cell_id = 11;\n",
              "                var nbb_unformatted_code = \"transform = transforms.Compose(\\n    [transforms.Resize(255), transforms.CenterCrop(224), transforms.ToTensor()]\\n)\";\n",
              "                var nbb_formatted_code = \"transform = transforms.Compose(\\n    [transforms.Resize(255), transforms.CenterCrop(224), transforms.ToTensor()]\\n)\";\n",
              "                var nbb_cells = Jupyter.notebook.get_cells();\n",
              "                for (var i = 0; i < nbb_cells.length; ++i) {\n",
              "                    if (nbb_cells[i].input_prompt_number == nbb_cell_id) {\n",
              "                        if (nbb_cells[i].get_text() == nbb_unformatted_code) {\n",
              "                             nbb_cells[i].set_text(nbb_formatted_code);\n",
              "                        }\n",
              "                        break;\n",
              "                    }\n",
              "                }\n",
              "            }, 500);\n",
              "            "
            ]
          },
          "metadata": {}
        }
      ],
      "source": [
        "transform = transforms.Compose(\n",
        "    [transforms.Resize(255), transforms.CenterCrop(224), transforms.ToTensor()]\n",
        ")"
      ]
    },
    {
      "cell_type": "code",
      "execution_count": null,
      "metadata": {
        "colab": {
          "base_uri": "https://localhost:8080/",
          "height": 35
        },
        "id": "139vpVYHfsrF",
        "outputId": "fa02e17f-b440-4674-b0cf-ad46430389ad"
      },
      "outputs": [
        {
          "output_type": "stream",
          "name": "stdout",
          "text": [
            "Mounted at /content/drive\n"
          ]
        },
        {
          "output_type": "display_data",
          "data": {
            "text/plain": [
              "<IPython.core.display.Javascript object>"
            ],
            "application/javascript": [
              "\n",
              "            setTimeout(function() {\n",
              "                var nbb_cell_id = 12;\n",
              "                var nbb_unformatted_code = \"from google.colab import drive\\ndrive.mount('/content/drive')\";\n",
              "                var nbb_formatted_code = \"from google.colab import drive\\n\\ndrive.mount(\\\"/content/drive\\\")\";\n",
              "                var nbb_cells = Jupyter.notebook.get_cells();\n",
              "                for (var i = 0; i < nbb_cells.length; ++i) {\n",
              "                    if (nbb_cells[i].input_prompt_number == nbb_cell_id) {\n",
              "                        if (nbb_cells[i].get_text() == nbb_unformatted_code) {\n",
              "                             nbb_cells[i].set_text(nbb_formatted_code);\n",
              "                        }\n",
              "                        break;\n",
              "                    }\n",
              "                }\n",
              "            }, 500);\n",
              "            "
            ]
          },
          "metadata": {}
        }
      ],
      "source": [
        "from google.colab import drive\n",
        "drive.mount('/content/drive')"
      ]
    },
    {
      "cell_type": "code",
      "execution_count": null,
      "metadata": {
        "colab": {
          "base_uri": "https://localhost:8080/",
          "height": 17
        },
        "id": "Y8Xb_BwUTPu5",
        "outputId": "54880495-902d-49d9-cfdd-e2cc2e1c3ac9"
      },
      "outputs": [
        {
          "output_type": "display_data",
          "data": {
            "text/plain": [
              "<IPython.core.display.Javascript object>"
            ],
            "application/javascript": [
              "\n",
              "            setTimeout(function() {\n",
              "                var nbb_cell_id = 13;\n",
              "                var nbb_unformatted_code = \"dataset = datasets.ImageFolder(\\\"/content/drive/MyDrive/Classroom/Dataset\\\", transform=transform)\";\n",
              "                var nbb_formatted_code = \"dataset = datasets.ImageFolder(\\n    \\\"/content/drive/MyDrive/Classroom/Dataset\\\", transform=transform\\n)\";\n",
              "                var nbb_cells = Jupyter.notebook.get_cells();\n",
              "                for (var i = 0; i < nbb_cells.length; ++i) {\n",
              "                    if (nbb_cells[i].input_prompt_number == nbb_cell_id) {\n",
              "                        if (nbb_cells[i].get_text() == nbb_unformatted_code) {\n",
              "                             nbb_cells[i].set_text(nbb_formatted_code);\n",
              "                        }\n",
              "                        break;\n",
              "                    }\n",
              "                }\n",
              "            }, 500);\n",
              "            "
            ]
          },
          "metadata": {}
        }
      ],
      "source": [
        "dataset = datasets.ImageFolder(\"/content/drive/MyDrive/Classroom/Dataset\", transform=transform)"
      ]
    },
    {
      "cell_type": "code",
      "execution_count": null,
      "metadata": {
        "id": "JsG_3f26TPu5",
        "outputId": "336c9c0a-e56f-4e09-b17b-05742d6a45b6",
        "colab": {
          "base_uri": "https://localhost:8080/",
          "height": 173
        }
      },
      "outputs": [
        {
          "output_type": "execute_result",
          "data": {
            "text/plain": [
              "Dataset ImageFolder\n",
              "    Number of datapoints: 61486\n",
              "    Root location: /content/drive/MyDrive/Classroom/Dataset\n",
              "    StandardTransform\n",
              "Transform: Compose(\n",
              "               Resize(size=255, interpolation=bilinear, max_size=None, antialias=None)\n",
              "               CenterCrop(size=(224, 224))\n",
              "               ToTensor()\n",
              "           )"
            ]
          },
          "metadata": {},
          "execution_count": 14
        },
        {
          "output_type": "display_data",
          "data": {
            "text/plain": [
              "<IPython.core.display.Javascript object>"
            ],
            "application/javascript": [
              "\n",
              "            setTimeout(function() {\n",
              "                var nbb_cell_id = 14;\n",
              "                var nbb_unformatted_code = \"dataset\";\n",
              "                var nbb_formatted_code = \"dataset\";\n",
              "                var nbb_cells = Jupyter.notebook.get_cells();\n",
              "                for (var i = 0; i < nbb_cells.length; ++i) {\n",
              "                    if (nbb_cells[i].input_prompt_number == nbb_cell_id) {\n",
              "                        if (nbb_cells[i].get_text() == nbb_unformatted_code) {\n",
              "                             nbb_cells[i].set_text(nbb_formatted_code);\n",
              "                        }\n",
              "                        break;\n",
              "                    }\n",
              "                }\n",
              "            }, 500);\n",
              "            "
            ]
          },
          "metadata": {}
        }
      ],
      "source": [
        "dataset"
      ]
    },
    {
      "cell_type": "code",
      "execution_count": null,
      "metadata": {
        "id": "FBmlqk4oUiuJ",
        "colab": {
          "base_uri": "https://localhost:8080/",
          "height": 35
        },
        "outputId": "3bd1e81d-973a-4b21-9ec4-31303ead6493"
      },
      "outputs": [
        {
          "output_type": "stream",
          "name": "stdout",
          "text": [
            "Drive already mounted at /content/drive; to attempt to forcibly remount, call drive.mount(\"/content/drive\", force_remount=True).\n"
          ]
        },
        {
          "output_type": "display_data",
          "data": {
            "text/plain": [
              "<IPython.core.display.Javascript object>"
            ],
            "application/javascript": [
              "\n",
              "            setTimeout(function() {\n",
              "                var nbb_cell_id = 15;\n",
              "                var nbb_unformatted_code = \"from google.colab import drive\\ndrive.mount('/content/drive')\";\n",
              "                var nbb_formatted_code = \"from google.colab import drive\\n\\ndrive.mount(\\\"/content/drive\\\")\";\n",
              "                var nbb_cells = Jupyter.notebook.get_cells();\n",
              "                for (var i = 0; i < nbb_cells.length; ++i) {\n",
              "                    if (nbb_cells[i].input_prompt_number == nbb_cell_id) {\n",
              "                        if (nbb_cells[i].get_text() == nbb_unformatted_code) {\n",
              "                             nbb_cells[i].set_text(nbb_formatted_code);\n",
              "                        }\n",
              "                        break;\n",
              "                    }\n",
              "                }\n",
              "            }, 500);\n",
              "            "
            ]
          },
          "metadata": {}
        }
      ],
      "source": [
        "from google.colab import drive\n",
        "drive.mount('/content/drive')"
      ]
    },
    {
      "cell_type": "code",
      "execution_count": null,
      "metadata": {
        "id": "-Y9zSdO9TPu6",
        "outputId": "5be97fde-e8fc-403d-8b44-e7f66b81def8",
        "colab": {
          "base_uri": "https://localhost:8080/",
          "height": 17
        }
      },
      "outputs": [
        {
          "output_type": "display_data",
          "data": {
            "text/plain": [
              "<IPython.core.display.Javascript object>"
            ],
            "application/javascript": [
              "\n",
              "            setTimeout(function() {\n",
              "                var nbb_cell_id = 16;\n",
              "                var nbb_unformatted_code = \"indices = list(range(len(dataset)))\";\n",
              "                var nbb_formatted_code = \"indices = list(range(len(dataset)))\";\n",
              "                var nbb_cells = Jupyter.notebook.get_cells();\n",
              "                for (var i = 0; i < nbb_cells.length; ++i) {\n",
              "                    if (nbb_cells[i].input_prompt_number == nbb_cell_id) {\n",
              "                        if (nbb_cells[i].get_text() == nbb_unformatted_code) {\n",
              "                             nbb_cells[i].set_text(nbb_formatted_code);\n",
              "                        }\n",
              "                        break;\n",
              "                    }\n",
              "                }\n",
              "            }, 500);\n",
              "            "
            ]
          },
          "metadata": {}
        }
      ],
      "source": [
        "indices = list(range(len(dataset)))"
      ]
    },
    {
      "cell_type": "code",
      "execution_count": null,
      "metadata": {
        "id": "NyJv27iDTPu6",
        "outputId": "a5bd435c-491d-47f1-d5a9-9fda0f57edb3",
        "colab": {
          "base_uri": "https://localhost:8080/",
          "height": 17
        }
      },
      "outputs": [
        {
          "output_type": "display_data",
          "data": {
            "text/plain": [
              "<IPython.core.display.Javascript object>"
            ],
            "application/javascript": [
              "\n",
              "            setTimeout(function() {\n",
              "                var nbb_cell_id = 17;\n",
              "                var nbb_unformatted_code = \"split = int(np.floor(0.85 * len(dataset)))  # train_size\";\n",
              "                var nbb_formatted_code = \"split = int(np.floor(0.85 * len(dataset)))  # train_size\";\n",
              "                var nbb_cells = Jupyter.notebook.get_cells();\n",
              "                for (var i = 0; i < nbb_cells.length; ++i) {\n",
              "                    if (nbb_cells[i].input_prompt_number == nbb_cell_id) {\n",
              "                        if (nbb_cells[i].get_text() == nbb_unformatted_code) {\n",
              "                             nbb_cells[i].set_text(nbb_formatted_code);\n",
              "                        }\n",
              "                        break;\n",
              "                    }\n",
              "                }\n",
              "            }, 500);\n",
              "            "
            ]
          },
          "metadata": {}
        }
      ],
      "source": [
        "split = int(np.floor(0.85 * len(dataset)))  # train_size"
      ]
    },
    {
      "cell_type": "code",
      "execution_count": null,
      "metadata": {
        "id": "QASvuxsMTPu6",
        "outputId": "b9b98e45-6d04-4ef9-e369-55b7b99a2ae1",
        "colab": {
          "base_uri": "https://localhost:8080/",
          "height": 17
        }
      },
      "outputs": [
        {
          "output_type": "display_data",
          "data": {
            "text/plain": [
              "<IPython.core.display.Javascript object>"
            ],
            "application/javascript": [
              "\n",
              "            setTimeout(function() {\n",
              "                var nbb_cell_id = 18;\n",
              "                var nbb_unformatted_code = \"validation = int(np.floor(0.70 * split))  # validation\";\n",
              "                var nbb_formatted_code = \"validation = int(np.floor(0.70 * split))  # validation\";\n",
              "                var nbb_cells = Jupyter.notebook.get_cells();\n",
              "                for (var i = 0; i < nbb_cells.length; ++i) {\n",
              "                    if (nbb_cells[i].input_prompt_number == nbb_cell_id) {\n",
              "                        if (nbb_cells[i].get_text() == nbb_unformatted_code) {\n",
              "                             nbb_cells[i].set_text(nbb_formatted_code);\n",
              "                        }\n",
              "                        break;\n",
              "                    }\n",
              "                }\n",
              "            }, 500);\n",
              "            "
            ]
          },
          "metadata": {}
        }
      ],
      "source": [
        "validation = int(np.floor(0.70 * split))  # validation"
      ]
    },
    {
      "cell_type": "code",
      "execution_count": null,
      "metadata": {
        "id": "bOwzngZ2TPu7",
        "outputId": "d0699c20-d27e-458d-9b7b-1bb58567c903",
        "colab": {
          "base_uri": "https://localhost:8080/",
          "height": 35
        }
      },
      "outputs": [
        {
          "output_type": "stream",
          "name": "stdout",
          "text": [
            "0 36584 52263 61486\n"
          ]
        },
        {
          "output_type": "display_data",
          "data": {
            "text/plain": [
              "<IPython.core.display.Javascript object>"
            ],
            "application/javascript": [
              "\n",
              "            setTimeout(function() {\n",
              "                var nbb_cell_id = 19;\n",
              "                var nbb_unformatted_code = \"print(0, validation, split, len(dataset))\";\n",
              "                var nbb_formatted_code = \"print(0, validation, split, len(dataset))\";\n",
              "                var nbb_cells = Jupyter.notebook.get_cells();\n",
              "                for (var i = 0; i < nbb_cells.length; ++i) {\n",
              "                    if (nbb_cells[i].input_prompt_number == nbb_cell_id) {\n",
              "                        if (nbb_cells[i].get_text() == nbb_unformatted_code) {\n",
              "                             nbb_cells[i].set_text(nbb_formatted_code);\n",
              "                        }\n",
              "                        break;\n",
              "                    }\n",
              "                }\n",
              "            }, 500);\n",
              "            "
            ]
          },
          "metadata": {}
        }
      ],
      "source": [
        "print(0, validation, split, len(dataset))"
      ]
    },
    {
      "cell_type": "code",
      "execution_count": null,
      "metadata": {
        "id": "N7Shnv7FTPu7",
        "outputId": "15801a75-2e00-479a-b500-53b6d345b6d2",
        "colab": {
          "base_uri": "https://localhost:8080/",
          "height": 69
        }
      },
      "outputs": [
        {
          "output_type": "stream",
          "name": "stdout",
          "text": [
            "length of train size :36584\n",
            "length of validation size :15679\n",
            "length of test size :24902\n"
          ]
        },
        {
          "output_type": "display_data",
          "data": {
            "text/plain": [
              "<IPython.core.display.Javascript object>"
            ],
            "application/javascript": [
              "\n",
              "            setTimeout(function() {\n",
              "                var nbb_cell_id = 20;\n",
              "                var nbb_unformatted_code = \"\\nprint(f\\\"length of train size :{validation}\\\")\\nprint(f\\\"length of validation size :{split - validation}\\\")\\nprint(f\\\"length of test size :{len(dataset)-validation}\\\")\";\n",
              "                var nbb_formatted_code = \"print(f\\\"length of train size :{validation}\\\")\\nprint(f\\\"length of validation size :{split - validation}\\\")\\nprint(f\\\"length of test size :{len(dataset)-validation}\\\")\";\n",
              "                var nbb_cells = Jupyter.notebook.get_cells();\n",
              "                for (var i = 0; i < nbb_cells.length; ++i) {\n",
              "                    if (nbb_cells[i].input_prompt_number == nbb_cell_id) {\n",
              "                        if (nbb_cells[i].get_text() == nbb_unformatted_code) {\n",
              "                             nbb_cells[i].set_text(nbb_formatted_code);\n",
              "                        }\n",
              "                        break;\n",
              "                    }\n",
              "                }\n",
              "            }, 500);\n",
              "            "
            ]
          },
          "metadata": {}
        }
      ],
      "source": [
        "\n",
        "print(f\"length of train size :{validation}\")\n",
        "print(f\"length of validation size :{split - validation}\")\n",
        "print(f\"length of test size :{len(dataset)-validation}\")"
      ]
    },
    {
      "cell_type": "code",
      "execution_count": null,
      "metadata": {
        "id": "De3Z2mfWTPu7",
        "outputId": "7b3e8cef-b581-41df-fa91-d633ac6a2bf5",
        "colab": {
          "base_uri": "https://localhost:8080/",
          "height": 17
        }
      },
      "outputs": [
        {
          "output_type": "display_data",
          "data": {
            "text/plain": [
              "<IPython.core.display.Javascript object>"
            ],
            "application/javascript": [
              "\n",
              "            setTimeout(function() {\n",
              "                var nbb_cell_id = 21;\n",
              "                var nbb_unformatted_code = \"np.random.shuffle(indices)\";\n",
              "                var nbb_formatted_code = \"np.random.shuffle(indices)\";\n",
              "                var nbb_cells = Jupyter.notebook.get_cells();\n",
              "                for (var i = 0; i < nbb_cells.length; ++i) {\n",
              "                    if (nbb_cells[i].input_prompt_number == nbb_cell_id) {\n",
              "                        if (nbb_cells[i].get_text() == nbb_unformatted_code) {\n",
              "                             nbb_cells[i].set_text(nbb_formatted_code);\n",
              "                        }\n",
              "                        break;\n",
              "                    }\n",
              "                }\n",
              "            }, 500);\n",
              "            "
            ]
          },
          "metadata": {}
        }
      ],
      "source": [
        "np.random.shuffle(indices)"
      ]
    },
    {
      "cell_type": "markdown",
      "metadata": {
        "id": "AWZFmrPrTPu7"
      },
      "source": [
        "\n",
        "### Split into Train and Test"
      ]
    },
    {
      "cell_type": "code",
      "execution_count": null,
      "metadata": {
        "id": "uXl35aU6TPu8",
        "outputId": "89e6a71e-98c3-40cc-a32a-b659f6caecde",
        "colab": {
          "base_uri": "https://localhost:8080/",
          "height": 17
        }
      },
      "outputs": [
        {
          "output_type": "display_data",
          "data": {
            "text/plain": [
              "<IPython.core.display.Javascript object>"
            ],
            "application/javascript": [
              "\n",
              "            setTimeout(function() {\n",
              "                var nbb_cell_id = 22;\n",
              "                var nbb_unformatted_code = \"train_indices, validation_indices, test_indices = (\\n    indices[:validation],\\n    indices[validation:split],\\n    indices[split:],\\n)\";\n",
              "                var nbb_formatted_code = \"train_indices, validation_indices, test_indices = (\\n    indices[:validation],\\n    indices[validation:split],\\n    indices[split:],\\n)\";\n",
              "                var nbb_cells = Jupyter.notebook.get_cells();\n",
              "                for (var i = 0; i < nbb_cells.length; ++i) {\n",
              "                    if (nbb_cells[i].input_prompt_number == nbb_cell_id) {\n",
              "                        if (nbb_cells[i].get_text() == nbb_unformatted_code) {\n",
              "                             nbb_cells[i].set_text(nbb_formatted_code);\n",
              "                        }\n",
              "                        break;\n",
              "                    }\n",
              "                }\n",
              "            }, 500);\n",
              "            "
            ]
          },
          "metadata": {}
        }
      ],
      "source": [
        "train_indices, validation_indices, test_indices = (\n",
        "    indices[:validation],\n",
        "    indices[validation:split],\n",
        "    indices[split:],\n",
        ")"
      ]
    },
    {
      "cell_type": "code",
      "execution_count": null,
      "metadata": {
        "id": "XAvDsVSBTPu8",
        "outputId": "b9fffe7d-5e28-43c2-8d84-c068b9fa656b",
        "colab": {
          "base_uri": "https://localhost:8080/",
          "height": 17
        }
      },
      "outputs": [
        {
          "output_type": "display_data",
          "data": {
            "text/plain": [
              "<IPython.core.display.Javascript object>"
            ],
            "application/javascript": [
              "\n",
              "            setTimeout(function() {\n",
              "                var nbb_cell_id = 23;\n",
              "                var nbb_unformatted_code = \"train_sampler = SubsetRandomSampler(train_indices)\\nvalidation_sampler = SubsetRandomSampler(validation_indices)\\ntest_sampler = SubsetRandomSampler(test_indices)\";\n",
              "                var nbb_formatted_code = \"train_sampler = SubsetRandomSampler(train_indices)\\nvalidation_sampler = SubsetRandomSampler(validation_indices)\\ntest_sampler = SubsetRandomSampler(test_indices)\";\n",
              "                var nbb_cells = Jupyter.notebook.get_cells();\n",
              "                for (var i = 0; i < nbb_cells.length; ++i) {\n",
              "                    if (nbb_cells[i].input_prompt_number == nbb_cell_id) {\n",
              "                        if (nbb_cells[i].get_text() == nbb_unformatted_code) {\n",
              "                             nbb_cells[i].set_text(nbb_formatted_code);\n",
              "                        }\n",
              "                        break;\n",
              "                    }\n",
              "                }\n",
              "            }, 500);\n",
              "            "
            ]
          },
          "metadata": {}
        }
      ],
      "source": [
        "train_sampler = SubsetRandomSampler(train_indices)\n",
        "validation_sampler = SubsetRandomSampler(validation_indices)\n",
        "test_sampler = SubsetRandomSampler(test_indices)"
      ]
    },
    {
      "cell_type": "code",
      "execution_count": null,
      "metadata": {
        "id": "FFLjlFOkTPu8",
        "outputId": "13c85bb7-ddf4-4c8c-cbb4-8678597e7487",
        "colab": {
          "base_uri": "https://localhost:8080/",
          "height": 17
        }
      },
      "outputs": [
        {
          "output_type": "display_data",
          "data": {
            "text/plain": [
              "<IPython.core.display.Javascript object>"
            ],
            "application/javascript": [
              "\n",
              "            setTimeout(function() {\n",
              "                var nbb_cell_id = 23;\n",
              "                var nbb_unformatted_code = \"targets_size = len(dataset.class_to_idx)\";\n",
              "                var nbb_formatted_code = \"targets_size = len(dataset.class_to_idx)\";\n",
              "                var nbb_cells = Jupyter.notebook.get_cells();\n",
              "                for (var i = 0; i < nbb_cells.length; ++i) {\n",
              "                    if (nbb_cells[i].input_prompt_number == nbb_cell_id) {\n",
              "                        if (nbb_cells[i].get_text() == nbb_unformatted_code) {\n",
              "                             nbb_cells[i].set_text(nbb_formatted_code);\n",
              "                        }\n",
              "                        break;\n",
              "                    }\n",
              "                }\n",
              "            }, 500);\n",
              "            "
            ]
          },
          "metadata": {}
        }
      ],
      "source": [
        "targets_size = len(dataset.class_to_idx)"
      ]
    },
    {
      "cell_type": "markdown",
      "metadata": {
        "id": "NGFYnpJNTPu8"
      },
      "source": [
        "### Original Modeling"
      ]
    },
    {
      "cell_type": "code",
      "execution_count": null,
      "metadata": {
        "id": "gBDnmLYJTPu9",
        "outputId": "d2e84ca2-721d-46f5-fd00-302e1b08a49c",
        "colab": {
          "base_uri": "https://localhost:8080/",
          "height": 17
        }
      },
      "outputs": [
        {
          "output_type": "display_data",
          "data": {
            "text/plain": [
              "<IPython.core.display.Javascript object>"
            ],
            "application/javascript": [
              "\n",
              "            setTimeout(function() {\n",
              "                var nbb_cell_id = 25;\n",
              "                var nbb_unformatted_code = \"\\nclass CNN(nn.Module):\\n    def __init__(self, K):\\n        super(CNN, self).__init__()\\n        self.conv_layers = nn.Sequential(\\n            # conv1\\n            nn.Conv2d(in_channels=3, out_channels=32, kernel_size=3, padding=1),\\n            nn.ReLU(),\\n            nn.BatchNorm2d(32),\\n            nn.Conv2d(in_channels=32, out_channels=32, kernel_size=3, padding=1),\\n            nn.ReLU(),\\n            nn.BatchNorm2d(32),\\n            nn.MaxPool2d(2),\\n            # conv2\\n            nn.Conv2d(in_channels=32, out_channels=64, kernel_size=3, padding=1),\\n            nn.ReLU(),\\n            nn.BatchNorm2d(64),\\n            nn.Conv2d(in_channels=64, out_channels=64, kernel_size=3, padding=1),\\n            nn.ReLU(),\\n            nn.BatchNorm2d(64),\\n            nn.MaxPool2d(2),\\n            # conv3\\n            nn.Conv2d(in_channels=64, out_channels=128, kernel_size=3, padding=1),\\n            nn.ReLU(),\\n            nn.BatchNorm2d(128),\\n            nn.Conv2d(in_channels=128, out_channels=128, kernel_size=3, padding=1),\\n            nn.ReLU(),\\n            nn.BatchNorm2d(128),\\n            nn.MaxPool2d(2),\\n            # conv4\\n            nn.Conv2d(in_channels=128, out_channels=256, kernel_size=3, padding=1),\\n            nn.ReLU(),\\n            nn.BatchNorm2d(256),\\n            nn.Conv2d(in_channels=256, out_channels=256, kernel_size=3, padding=1),\\n            nn.ReLU(),\\n            nn.BatchNorm2d(256),\\n            nn.MaxPool2d(2),\\n        )\\n\\n        self.dense_layers = nn.Sequential(\\n            nn.Dropout(0.4),\\n            nn.Linear(50176, 1024),\\n            nn.ReLU(),\\n            nn.Dropout(0.4),\\n            nn.Linear(1024, K),\\n        )\\n\\n    def forward(self, X):\\n        out = self.conv_layers(X)\\n\\n        # Flatten\\n        out = out.view(-1, 50176)\\n\\n        # Fully connected\\n        out = self.dense_layers(out)\\n\\n        return out\";\n",
              "                var nbb_formatted_code = \"class CNN(nn.Module):\\n    def __init__(self, K):\\n        super(CNN, self).__init__()\\n        self.conv_layers = nn.Sequential(\\n            # conv1\\n            nn.Conv2d(in_channels=3, out_channels=32, kernel_size=3, padding=1),\\n            nn.ReLU(),\\n            nn.BatchNorm2d(32),\\n            nn.Conv2d(in_channels=32, out_channels=32, kernel_size=3, padding=1),\\n            nn.ReLU(),\\n            nn.BatchNorm2d(32),\\n            nn.MaxPool2d(2),\\n            # conv2\\n            nn.Conv2d(in_channels=32, out_channels=64, kernel_size=3, padding=1),\\n            nn.ReLU(),\\n            nn.BatchNorm2d(64),\\n            nn.Conv2d(in_channels=64, out_channels=64, kernel_size=3, padding=1),\\n            nn.ReLU(),\\n            nn.BatchNorm2d(64),\\n            nn.MaxPool2d(2),\\n            # conv3\\n            nn.Conv2d(in_channels=64, out_channels=128, kernel_size=3, padding=1),\\n            nn.ReLU(),\\n            nn.BatchNorm2d(128),\\n            nn.Conv2d(in_channels=128, out_channels=128, kernel_size=3, padding=1),\\n            nn.ReLU(),\\n            nn.BatchNorm2d(128),\\n            nn.MaxPool2d(2),\\n            # conv4\\n            nn.Conv2d(in_channels=128, out_channels=256, kernel_size=3, padding=1),\\n            nn.ReLU(),\\n            nn.BatchNorm2d(256),\\n            nn.Conv2d(in_channels=256, out_channels=256, kernel_size=3, padding=1),\\n            nn.ReLU(),\\n            nn.BatchNorm2d(256),\\n            nn.MaxPool2d(2),\\n        )\\n\\n        self.dense_layers = nn.Sequential(\\n            nn.Dropout(0.4),\\n            nn.Linear(50176, 1024),\\n            nn.ReLU(),\\n            nn.Dropout(0.4),\\n            nn.Linear(1024, K),\\n        )\\n\\n    def forward(self, X):\\n        out = self.conv_layers(X)\\n\\n        # Flatten\\n        out = out.view(-1, 50176)\\n\\n        # Fully connected\\n        out = self.dense_layers(out)\\n\\n        return out\";\n",
              "                var nbb_cells = Jupyter.notebook.get_cells();\n",
              "                for (var i = 0; i < nbb_cells.length; ++i) {\n",
              "                    if (nbb_cells[i].input_prompt_number == nbb_cell_id) {\n",
              "                        if (nbb_cells[i].get_text() == nbb_unformatted_code) {\n",
              "                             nbb_cells[i].set_text(nbb_formatted_code);\n",
              "                        }\n",
              "                        break;\n",
              "                    }\n",
              "                }\n",
              "            }, 500);\n",
              "            "
            ]
          },
          "metadata": {}
        }
      ],
      "source": [
        "\n",
        "class CNN(nn.Module):\n",
        "    def __init__(self, K):\n",
        "        super(CNN, self).__init__()\n",
        "        self.conv_layers = nn.Sequential(\n",
        "            # conv1\n",
        "            nn.Conv2d(in_channels=3, out_channels=32, kernel_size=3, padding=1),\n",
        "            nn.ReLU(),\n",
        "            nn.BatchNorm2d(32),\n",
        "            nn.Conv2d(in_channels=32, out_channels=32, kernel_size=3, padding=1),\n",
        "            nn.ReLU(),\n",
        "            nn.BatchNorm2d(32),\n",
        "            nn.MaxPool2d(2),\n",
        "            # conv2\n",
        "            nn.Conv2d(in_channels=32, out_channels=64, kernel_size=3, padding=1),\n",
        "            nn.ReLU(),\n",
        "            nn.BatchNorm2d(64),\n",
        "            nn.Conv2d(in_channels=64, out_channels=64, kernel_size=3, padding=1),\n",
        "            nn.ReLU(),\n",
        "            nn.BatchNorm2d(64),\n",
        "            nn.MaxPool2d(2),\n",
        "            # conv3\n",
        "            nn.Conv2d(in_channels=64, out_channels=128, kernel_size=3, padding=1),\n",
        "            nn.ReLU(),\n",
        "            nn.BatchNorm2d(128),\n",
        "            nn.Conv2d(in_channels=128, out_channels=128, kernel_size=3, padding=1),\n",
        "            nn.ReLU(),\n",
        "            nn.BatchNorm2d(128),\n",
        "            nn.MaxPool2d(2),\n",
        "            # conv4\n",
        "            nn.Conv2d(in_channels=128, out_channels=256, kernel_size=3, padding=1),\n",
        "            nn.ReLU(),\n",
        "            nn.BatchNorm2d(256),\n",
        "            nn.Conv2d(in_channels=256, out_channels=256, kernel_size=3, padding=1),\n",
        "            nn.ReLU(),\n",
        "            nn.BatchNorm2d(256),\n",
        "            nn.MaxPool2d(2),\n",
        "        )\n",
        "\n",
        "        self.dense_layers = nn.Sequential(\n",
        "            nn.Dropout(0.4),\n",
        "            nn.Linear(50176, 1024),\n",
        "            nn.ReLU(),\n",
        "            nn.Dropout(0.4),\n",
        "            nn.Linear(1024, K),\n",
        "        )\n",
        "\n",
        "    def forward(self, X):\n",
        "        out = self.conv_layers(X)\n",
        "\n",
        "        # Flatten\n",
        "        out = out.view(-1, 50176)\n",
        "\n",
        "        # Fully connected\n",
        "        out = self.dense_layers(out)\n",
        "\n",
        "        return out"
      ]
    },
    {
      "cell_type": "code",
      "execution_count": null,
      "metadata": {
        "id": "rEa2UsrbTPu9",
        "outputId": "88683dbf-2681-471f-9f9d-4f0fdddff2cd",
        "colab": {
          "base_uri": "https://localhost:8080/",
          "height": 35
        }
      },
      "outputs": [
        {
          "output_type": "stream",
          "name": "stdout",
          "text": [
            "cpu\n"
          ]
        },
        {
          "output_type": "display_data",
          "data": {
            "text/plain": [
              "<IPython.core.display.Javascript object>"
            ],
            "application/javascript": [
              "\n",
              "            setTimeout(function() {\n",
              "                var nbb_cell_id = 26;\n",
              "                var nbb_unformatted_code = \"device = torch.device(\\\"cuda\\\" if torch.cuda.is_available() else \\\"cpu\\\")\\nprint(device)\";\n",
              "                var nbb_formatted_code = \"device = torch.device(\\\"cuda\\\" if torch.cuda.is_available() else \\\"cpu\\\")\\nprint(device)\";\n",
              "                var nbb_cells = Jupyter.notebook.get_cells();\n",
              "                for (var i = 0; i < nbb_cells.length; ++i) {\n",
              "                    if (nbb_cells[i].input_prompt_number == nbb_cell_id) {\n",
              "                        if (nbb_cells[i].get_text() == nbb_unformatted_code) {\n",
              "                             nbb_cells[i].set_text(nbb_formatted_code);\n",
              "                        }\n",
              "                        break;\n",
              "                    }\n",
              "                }\n",
              "            }, 500);\n",
              "            "
            ]
          },
          "metadata": {}
        }
      ],
      "source": [
        "device = torch.device(\"cuda\" if torch.cuda.is_available() else \"cpu\")\n",
        "print(device)"
      ]
    },
    {
      "cell_type": "code",
      "execution_count": null,
      "metadata": {
        "id": "m1rglmGaTPu9",
        "outputId": "dbd1a008-2a38-4d60-dd21-56337374db37",
        "colab": {
          "base_uri": "https://localhost:8080/",
          "height": 17
        }
      },
      "outputs": [
        {
          "output_type": "display_data",
          "data": {
            "text/plain": [
              "<IPython.core.display.Javascript object>"
            ],
            "application/javascript": [
              "\n",
              "            setTimeout(function() {\n",
              "                var nbb_cell_id = 27;\n",
              "                var nbb_unformatted_code = \"model = CNN(targets_size)\";\n",
              "                var nbb_formatted_code = \"model = CNN(targets_size)\";\n",
              "                var nbb_cells = Jupyter.notebook.get_cells();\n",
              "                for (var i = 0; i < nbb_cells.length; ++i) {\n",
              "                    if (nbb_cells[i].input_prompt_number == nbb_cell_id) {\n",
              "                        if (nbb_cells[i].get_text() == nbb_unformatted_code) {\n",
              "                             nbb_cells[i].set_text(nbb_formatted_code);\n",
              "                        }\n",
              "                        break;\n",
              "                    }\n",
              "                }\n",
              "            }, 500);\n",
              "            "
            ]
          },
          "metadata": {}
        }
      ],
      "source": [
        "model = CNN(targets_size)"
      ]
    },
    {
      "cell_type": "code",
      "execution_count": null,
      "metadata": {
        "id": "hF0vCTbCTPu9",
        "outputId": "26151281-5687-43ab-bceb-304052c111e6",
        "colab": {
          "base_uri": "https://localhost:8080/",
          "height": 694
        }
      },
      "outputs": [
        {
          "output_type": "execute_result",
          "data": {
            "text/plain": [
              "CNN(\n",
              "  (conv_layers): Sequential(\n",
              "    (0): Conv2d(3, 32, kernel_size=(3, 3), stride=(1, 1), padding=(1, 1))\n",
              "    (1): ReLU()\n",
              "    (2): BatchNorm2d(32, eps=1e-05, momentum=0.1, affine=True, track_running_stats=True)\n",
              "    (3): Conv2d(32, 32, kernel_size=(3, 3), stride=(1, 1), padding=(1, 1))\n",
              "    (4): ReLU()\n",
              "    (5): BatchNorm2d(32, eps=1e-05, momentum=0.1, affine=True, track_running_stats=True)\n",
              "    (6): MaxPool2d(kernel_size=2, stride=2, padding=0, dilation=1, ceil_mode=False)\n",
              "    (7): Conv2d(32, 64, kernel_size=(3, 3), stride=(1, 1), padding=(1, 1))\n",
              "    (8): ReLU()\n",
              "    (9): BatchNorm2d(64, eps=1e-05, momentum=0.1, affine=True, track_running_stats=True)\n",
              "    (10): Conv2d(64, 64, kernel_size=(3, 3), stride=(1, 1), padding=(1, 1))\n",
              "    (11): ReLU()\n",
              "    (12): BatchNorm2d(64, eps=1e-05, momentum=0.1, affine=True, track_running_stats=True)\n",
              "    (13): MaxPool2d(kernel_size=2, stride=2, padding=0, dilation=1, ceil_mode=False)\n",
              "    (14): Conv2d(64, 128, kernel_size=(3, 3), stride=(1, 1), padding=(1, 1))\n",
              "    (15): ReLU()\n",
              "    (16): BatchNorm2d(128, eps=1e-05, momentum=0.1, affine=True, track_running_stats=True)\n",
              "    (17): Conv2d(128, 128, kernel_size=(3, 3), stride=(1, 1), padding=(1, 1))\n",
              "    (18): ReLU()\n",
              "    (19): BatchNorm2d(128, eps=1e-05, momentum=0.1, affine=True, track_running_stats=True)\n",
              "    (20): MaxPool2d(kernel_size=2, stride=2, padding=0, dilation=1, ceil_mode=False)\n",
              "    (21): Conv2d(128, 256, kernel_size=(3, 3), stride=(1, 1), padding=(1, 1))\n",
              "    (22): ReLU()\n",
              "    (23): BatchNorm2d(256, eps=1e-05, momentum=0.1, affine=True, track_running_stats=True)\n",
              "    (24): Conv2d(256, 256, kernel_size=(3, 3), stride=(1, 1), padding=(1, 1))\n",
              "    (25): ReLU()\n",
              "    (26): BatchNorm2d(256, eps=1e-05, momentum=0.1, affine=True, track_running_stats=True)\n",
              "    (27): MaxPool2d(kernel_size=2, stride=2, padding=0, dilation=1, ceil_mode=False)\n",
              "  )\n",
              "  (dense_layers): Sequential(\n",
              "    (0): Dropout(p=0.4, inplace=False)\n",
              "    (1): Linear(in_features=50176, out_features=1024, bias=True)\n",
              "    (2): ReLU()\n",
              "    (3): Dropout(p=0.4, inplace=False)\n",
              "    (4): Linear(in_features=1024, out_features=39, bias=True)\n",
              "  )\n",
              ")"
            ]
          },
          "metadata": {},
          "execution_count": 28
        },
        {
          "output_type": "display_data",
          "data": {
            "text/plain": [
              "<IPython.core.display.Javascript object>"
            ],
            "application/javascript": [
              "\n",
              "            setTimeout(function() {\n",
              "                var nbb_cell_id = 28;\n",
              "                var nbb_unformatted_code = \"model.to(device)\";\n",
              "                var nbb_formatted_code = \"model.to(device)\";\n",
              "                var nbb_cells = Jupyter.notebook.get_cells();\n",
              "                for (var i = 0; i < nbb_cells.length; ++i) {\n",
              "                    if (nbb_cells[i].input_prompt_number == nbb_cell_id) {\n",
              "                        if (nbb_cells[i].get_text() == nbb_unformatted_code) {\n",
              "                             nbb_cells[i].set_text(nbb_formatted_code);\n",
              "                        }\n",
              "                        break;\n",
              "                    }\n",
              "                }\n",
              "            }, 500);\n",
              "            "
            ]
          },
          "metadata": {}
        }
      ],
      "source": [
        "model.to(device)"
      ]
    },
    {
      "cell_type": "code",
      "execution_count": null,
      "metadata": {
        "id": "Cbo-JqWKTPu-",
        "outputId": "f1fd761f-5014-47e7-f164-54f2b60aeb06",
        "colab": {
          "base_uri": "https://localhost:8080/",
          "height": 815
        }
      },
      "outputs": [
        {
          "output_type": "stream",
          "name": "stdout",
          "text": [
            "----------------------------------------------------------------\n",
            "        Layer (type)               Output Shape         Param #\n",
            "================================================================\n",
            "            Conv2d-1         [-1, 32, 224, 224]             896\n",
            "              ReLU-2         [-1, 32, 224, 224]               0\n",
            "       BatchNorm2d-3         [-1, 32, 224, 224]              64\n",
            "            Conv2d-4         [-1, 32, 224, 224]           9,248\n",
            "              ReLU-5         [-1, 32, 224, 224]               0\n",
            "       BatchNorm2d-6         [-1, 32, 224, 224]              64\n",
            "         MaxPool2d-7         [-1, 32, 112, 112]               0\n",
            "            Conv2d-8         [-1, 64, 112, 112]          18,496\n",
            "              ReLU-9         [-1, 64, 112, 112]               0\n",
            "      BatchNorm2d-10         [-1, 64, 112, 112]             128\n",
            "           Conv2d-11         [-1, 64, 112, 112]          36,928\n",
            "             ReLU-12         [-1, 64, 112, 112]               0\n",
            "      BatchNorm2d-13         [-1, 64, 112, 112]             128\n",
            "        MaxPool2d-14           [-1, 64, 56, 56]               0\n",
            "           Conv2d-15          [-1, 128, 56, 56]          73,856\n",
            "             ReLU-16          [-1, 128, 56, 56]               0\n",
            "      BatchNorm2d-17          [-1, 128, 56, 56]             256\n",
            "           Conv2d-18          [-1, 128, 56, 56]         147,584\n",
            "             ReLU-19          [-1, 128, 56, 56]               0\n",
            "      BatchNorm2d-20          [-1, 128, 56, 56]             256\n",
            "        MaxPool2d-21          [-1, 128, 28, 28]               0\n",
            "           Conv2d-22          [-1, 256, 28, 28]         295,168\n",
            "             ReLU-23          [-1, 256, 28, 28]               0\n",
            "      BatchNorm2d-24          [-1, 256, 28, 28]             512\n",
            "           Conv2d-25          [-1, 256, 28, 28]         590,080\n",
            "             ReLU-26          [-1, 256, 28, 28]               0\n",
            "      BatchNorm2d-27          [-1, 256, 28, 28]             512\n",
            "        MaxPool2d-28          [-1, 256, 14, 14]               0\n",
            "          Dropout-29                [-1, 50176]               0\n",
            "           Linear-30                 [-1, 1024]      51,381,248\n",
            "             ReLU-31                 [-1, 1024]               0\n",
            "          Dropout-32                 [-1, 1024]               0\n",
            "           Linear-33                   [-1, 39]          39,975\n",
            "================================================================\n",
            "Total params: 52,595,399\n",
            "Trainable params: 52,595,399\n",
            "Non-trainable params: 0\n",
            "----------------------------------------------------------------\n",
            "Input size (MB): 0.57\n",
            "Forward/backward pass size (MB): 143.96\n",
            "Params size (MB): 200.64\n",
            "Estimated Total Size (MB): 345.17\n",
            "----------------------------------------------------------------\n"
          ]
        },
        {
          "output_type": "display_data",
          "data": {
            "text/plain": [
              "<IPython.core.display.Javascript object>"
            ],
            "application/javascript": [
              "\n",
              "            setTimeout(function() {\n",
              "                var nbb_cell_id = 29;\n",
              "                var nbb_unformatted_code = \"\\nfrom torchsummary import summary\\n\\nsummary(model, (3, 224, 224))\";\n",
              "                var nbb_formatted_code = \"from torchsummary import summary\\n\\nsummary(model, (3, 224, 224))\";\n",
              "                var nbb_cells = Jupyter.notebook.get_cells();\n",
              "                for (var i = 0; i < nbb_cells.length; ++i) {\n",
              "                    if (nbb_cells[i].input_prompt_number == nbb_cell_id) {\n",
              "                        if (nbb_cells[i].get_text() == nbb_unformatted_code) {\n",
              "                             nbb_cells[i].set_text(nbb_formatted_code);\n",
              "                        }\n",
              "                        break;\n",
              "                    }\n",
              "                }\n",
              "            }, 500);\n",
              "            "
            ]
          },
          "metadata": {}
        }
      ],
      "source": [
        "\n",
        "from torchsummary import summary\n",
        "\n",
        "summary(model, (3, 224, 224))"
      ]
    },
    {
      "cell_type": "code",
      "execution_count": null,
      "metadata": {
        "id": "FnGXVSBbTPu-",
        "outputId": "de7a3dda-64d0-4635-ecda-411714e7cdc8",
        "colab": {
          "base_uri": "https://localhost:8080/",
          "height": 17
        }
      },
      "outputs": [
        {
          "output_type": "display_data",
          "data": {
            "text/plain": [
              "<IPython.core.display.Javascript object>"
            ],
            "application/javascript": [
              "\n",
              "            setTimeout(function() {\n",
              "                var nbb_cell_id = 30;\n",
              "                var nbb_unformatted_code = \"criterion = nn.CrossEntropyLoss()  # this include softmax + cross entropy loss\\noptimizer = torch.optim.Adam(model.parameters())\";\n",
              "                var nbb_formatted_code = \"criterion = nn.CrossEntropyLoss()  # this include softmax + cross entropy loss\\noptimizer = torch.optim.Adam(model.parameters())\";\n",
              "                var nbb_cells = Jupyter.notebook.get_cells();\n",
              "                for (var i = 0; i < nbb_cells.length; ++i) {\n",
              "                    if (nbb_cells[i].input_prompt_number == nbb_cell_id) {\n",
              "                        if (nbb_cells[i].get_text() == nbb_unformatted_code) {\n",
              "                             nbb_cells[i].set_text(nbb_formatted_code);\n",
              "                        }\n",
              "                        break;\n",
              "                    }\n",
              "                }\n",
              "            }, 500);\n",
              "            "
            ]
          },
          "metadata": {}
        }
      ],
      "source": [
        "criterion = nn.CrossEntropyLoss()  # this include softmax + cross entropy loss\n",
        "optimizer = torch.optim.Adam(model.parameters())"
      ]
    },
    {
      "cell_type": "markdown",
      "metadata": {
        "id": "DvOiXOX_TPu-"
      },
      "source": [
        "### Batch Gradient Descent"
      ]
    },
    {
      "cell_type": "code",
      "execution_count": null,
      "metadata": {
        "id": "FIkphZttTPu-",
        "outputId": "e2821bef-93da-426f-c5b8-19c5af8d36ca",
        "colab": {
          "base_uri": "https://localhost:8080/",
          "height": 17
        }
      },
      "outputs": [
        {
          "output_type": "display_data",
          "data": {
            "text/plain": [
              "<IPython.core.display.Javascript object>"
            ],
            "application/javascript": [
              "\n",
              "            setTimeout(function() {\n",
              "                var nbb_cell_id = 31;\n",
              "                var nbb_unformatted_code = \"\\ndef batch_gd(model, criterion, train_loader, test_laoder, epochs):\\n    train_losses = np.zeros(epochs)\\n    validation_losses = np.zeros(epochs)\\n\\n    for e in range(epochs):\\n        t0 = datetime.now()\\n        train_loss = []\\n        for inputs, targets in train_loader:\\n            inputs, targets = inputs.to(device), targets.to(device)\\n\\n            optimizer.zero_grad()\\n\\n            output = model(inputs)\\n\\n            loss = criterion(output, targets)\\n\\n            train_loss.append(loss.item())  # torch to numpy world\\n\\n            loss.backward()\\n            optimizer.step()\\n\\n        train_loss = np.mean(train_loss)\\n\\n        validation_loss = []\\n\\n        for inputs, targets in validation_loader:\\n\\n            inputs, targets = inputs.to(device), targets.to(device)\\n\\n            output = model(inputs)\\n\\n            loss = criterion(output, targets)\\n\\n            validation_loss.append(loss.item())  # torch to numpy world\\n\\n        validation_loss = np.mean(validation_loss)\\n\\n        train_losses[e] = train_loss\\n        validation_losses[e] = validation_loss\\n\\n        dt = datetime.now() - t0\\n\\n        print(\\n            f\\\"Epoch : {e+1}/{epochs} Train_loss:{train_loss:.3f} Test_loss:{validation_loss:.3f} Duration:{dt}\\\"\\n        )\\n\\n    return train_losses, validation_losses\";\n",
              "                var nbb_formatted_code = \"def batch_gd(model, criterion, train_loader, test_laoder, epochs):\\n    train_losses = np.zeros(epochs)\\n    validation_losses = np.zeros(epochs)\\n\\n    for e in range(epochs):\\n        t0 = datetime.now()\\n        train_loss = []\\n        for inputs, targets in train_loader:\\n            inputs, targets = inputs.to(device), targets.to(device)\\n\\n            optimizer.zero_grad()\\n\\n            output = model(inputs)\\n\\n            loss = criterion(output, targets)\\n\\n            train_loss.append(loss.item())  # torch to numpy world\\n\\n            loss.backward()\\n            optimizer.step()\\n\\n        train_loss = np.mean(train_loss)\\n\\n        validation_loss = []\\n\\n        for inputs, targets in validation_loader:\\n\\n            inputs, targets = inputs.to(device), targets.to(device)\\n\\n            output = model(inputs)\\n\\n            loss = criterion(output, targets)\\n\\n            validation_loss.append(loss.item())  # torch to numpy world\\n\\n        validation_loss = np.mean(validation_loss)\\n\\n        train_losses[e] = train_loss\\n        validation_losses[e] = validation_loss\\n\\n        dt = datetime.now() - t0\\n\\n        print(\\n            f\\\"Epoch : {e+1}/{epochs} Train_loss:{train_loss:.3f} Test_loss:{validation_loss:.3f} Duration:{dt}\\\"\\n        )\\n\\n    return train_losses, validation_losses\";\n",
              "                var nbb_cells = Jupyter.notebook.get_cells();\n",
              "                for (var i = 0; i < nbb_cells.length; ++i) {\n",
              "                    if (nbb_cells[i].input_prompt_number == nbb_cell_id) {\n",
              "                        if (nbb_cells[i].get_text() == nbb_unformatted_code) {\n",
              "                             nbb_cells[i].set_text(nbb_formatted_code);\n",
              "                        }\n",
              "                        break;\n",
              "                    }\n",
              "                }\n",
              "            }, 500);\n",
              "            "
            ]
          },
          "metadata": {}
        }
      ],
      "source": [
        "\n",
        "def batch_gd(model, criterion, train_loader, test_laoder, epochs):\n",
        "    train_losses = np.zeros(epochs)\n",
        "    validation_losses = np.zeros(epochs)\n",
        "\n",
        "    for e in range(epochs):\n",
        "        t0 = datetime.now()\n",
        "        train_loss = []\n",
        "        for inputs, targets in train_loader:\n",
        "            inputs, targets = inputs.to(device), targets.to(device)\n",
        "\n",
        "            optimizer.zero_grad()\n",
        "\n",
        "            output = model(inputs)\n",
        "\n",
        "            loss = criterion(output, targets)\n",
        "\n",
        "            train_loss.append(loss.item())  # torch to numpy world\n",
        "\n",
        "            loss.backward()\n",
        "            optimizer.step()\n",
        "\n",
        "        train_loss = np.mean(train_loss)\n",
        "\n",
        "        validation_loss = []\n",
        "\n",
        "        for inputs, targets in validation_loader:\n",
        "\n",
        "            inputs, targets = inputs.to(device), targets.to(device)\n",
        "for int i =0 i<=1000 i++\n",
        "for import matplotlibio from int =0 i<= 500 i++\n",
        "output epochs int 5\n",
        "            output = model(inputs)\n",
        "\n",
        "            loss = criterion(output, targets)\n",
        "\n",
        "            validation_loss.append(loss.item())  # torch to numpy world\n",
        "\n",
        "        validation_loss = np.mean(validation_loss)\n",
        "\n",
        "        train_losses[e] = train_loss\n",
        "        validation_losses[e] = validation_loss\n",
        "\n",
        "        dt = datetime.now() - t0\n",
        "\n",
        "        print(\n",
        "            f\"Epoch : {e+1}/{epochs} Train_loss:{train_loss:.3f} Test_loss:{validation_loss:.3f} Duration:{dt}\"\n",
        "        )\n",
        "\n",
        "    return train_losses, validation_losses\n"
      ]
    },
    {
      "cell_type": "code",
      "execution_count": null,
      "metadata": {
        "id": "4JnxPuSNTPu-",
        "outputId": "9146f7d1-4a3b-470f-bbaa-3e2933a907e4",
        "colab": {
          "base_uri": "https://localhost:8080/",
          "height": 17
        }
      },
      "outputs": [
        {
          "output_type": "display_data",
          "data": {
            "text/plain": [
              "<IPython.core.display.Javascript object>"
            ],
            "application/javascript": [
              "\n",
              "            setTimeout(function() {\n",
              "                var nbb_cell_id = 32;\n",
              "                var nbb_unformatted_code = \"batch_size = 16\\ntrain_loader = torch.utils.data.DataLoader(\\n    dataset, batch_size=batch_size, sampler=train_sampler\\n)\\ntest_loader = torch.utils.data.DataLoader(\\n    dataset, batch_size=batch_size, sampler=test_sampler\\n)\\nvalidation_loader = torch.utils.data.DataLoader(\\n    dataset, batch_size=batch_size, sampler=validation_sampler\\n)\";\n",
              "                var nbb_formatted_code = \"batch_size = 16\\ntrain_loader = torch.utils.data.DataLoader(\\n    dataset, batch_size=batch_size, sampler=train_sampler\\n)\\ntest_loader = torch.utils.data.DataLoader(\\n    dataset, batch_size=batch_size, sampler=test_sampler\\n)\\nvalidation_loader = torch.utils.data.DataLoader(\\n    dataset, batch_size=batch_size, sampler=validation_sampler\\n)\";\n",
              "                var nbb_cells = Jupyter.notebook.get_cells();\n",
              "                for (var i = 0; i < nbb_cells.length; ++i) {\n",
              "                    if (nbb_cells[i].input_prompt_number == nbb_cell_id) {\n",
              "                        if (nbb_cells[i].get_text() == nbb_unformatted_code) {\n",
              "                             nbb_cells[i].set_text(nbb_formatted_code);\n",
              "                        }\n",
              "                        break;\n",
              "                    }\n",
              "                }\n",
              "            }, 500);\n",
              "            "
            ]
          },
          "metadata": {}
        }
      ],
      "source": [
        "batch_size = 16\n",
        "train_loader = torch.utils.data.DataLoader(\n",
        "    dataset, batch_size=batch_size, sampler=train_sampler\n",
        ")\n",
        "test_loader = torch.utils.data.DataLoader(\n",
        "    dataset, batch_size=batch_size, sampler=test_sampler\n",
        ")\n",
        "validation_loader = torch.utils.data.DataLoader(\n",
        "    dataset, batch_size=batch_size, sampler=validation_sampler\n",
        ")"
      ]
    },
    {
      "cell_type": "code",
      "execution_count": null,
      "metadata": {
        "id": "RS1FzhWITPu_"
      },
      "outputs": [],
      "source": [
        "train_losses, validation_losses = batch_gd(\n",
        "    model, criterion, train_loader, validation_loader, 30\n",
        ")"
      ]
    },
    {
      "cell_type": "markdown",
      "metadata": {
        "id": "X_dWurQmTPu_"
      },
      "source": [
        "### Save the Model"
      ]
    },
    {
      "cell_type": "markdown",
      "metadata": {
        "id": "9Y_ACb-UTPu_"
      },
      "source": [
        "taskkill /PID PID-NO /T /F"
      ]
    },
    {
      "cell_type": "code",
      "execution_count": null,
      "metadata": {
        "id": "O8vLtutYTPu_"
      },
      "outputs": [],
      "source": [
        "torch.save(model.state_dict() , 'plant_disease_model_b16_e30.pt')"
      ]
    },
    {
      "cell_type": "markdown",
      "metadata": {
        "id": "Q0TJbr4dTPu_"
      },
      "source": [
        "### Load Model"
      ]
    },
    {
      "cell_type": "code",
      "execution_count": null,
      "metadata": {
        "id": "_EeUvnauTPu_"
      },
      "outputs": [],
      "source": [
        "model = CNN(targets_size)\n",
        "model.load_state_dict(torch.load(\"/content/drive/MyDrive/kag2/leaf_disease_model.pt\", map_location=torch.device('cpu')))\n",
        "model.eval()\n",
        "model.to(\"cpu\")"
      ]
    },
    {
      "cell_type": "code",
      "execution_count": null,
      "metadata": {
        "id": "61FKaauHTPu_"
      },
      "outputs": [],
      "source": [
        "%matplotlib notebook"
      ]
    },
    {
      "cell_type": "markdown",
      "metadata": {
        "id": "BYh1jufwTPu_"
      },
      "source": [
        "### Plot the loss"
      ]
    },
    {
      "cell_type": "code",
      "execution_count": null,
      "metadata": {
        "id": "Ri-mvzPGTPu_"
      },
      "outputs": [],
      "source": [
        "plt.plot(train_losses, label=\"train_loss\")\n",
        "plt.plot(validation_losses, label=\"validation_loss\")\n",
        "plt.xlabel(\"No of Epochs\")\n",
        "plt.ylabel(\"Loss\")\n",
        "plt.legend()\n",
        "plt.show()"
      ]
    },
    {
      "cell_type": "markdown",
      "metadata": {
        "id": "Q84gvMeRTPvA"
      },
      "source": [
        "### Accuracy"
      ]
    },
    {
      "cell_type": "code",
      "execution_count": null,
      "metadata": {
        "id": "03QG6_5WTPvA"
      },
      "outputs": [],
      "source": [
        "def accuracy(loader):\n",
        "    n_correct = 0\n",
        "    n_total = 0\n",
        "\n",
        "    for inputs, targets in loader:\n",
        "        inputs, targets = inputs.to(device), targets.to(device)\n",
        "\n",
        "        outputs = model(inputs)\n",
        "\n",
        "        _, predictions = torch.max(outputs, 1)\n",
        "\n",
        "        n_correct += (predictions == targets).sum().item()\n",
        "        n_total += targets.shape[0]\n",
        "\n",
        "    acc = n_correct / n_total\n",
        "    return acc"
      ]
    },
    {
      "cell_type": "code",
      "execution_count": null,
      "metadata": {
        "id": "xDne3xptTPvA"
      },
      "outputs": [],
      "source": [
        "train_acc = accuracy(train_loader)\n",
        "test_acc = accuracy(test_loader)\n",
        "validation_acc = accuracy(validation_loader)"
      ]
    },
    {
      "cell_type": "code",
      "execution_count": null,
      "metadata": {
        "id": "PZwq4GerTPvA"
      },
      "outputs": [],
      "source": [
        "print(\n",
        "    f\"Train Accuracy : {train_acc}\\nTest Accuracy : {test_acc}\\nValidation Accuracy : {validation_acc}\"\n",
        ")"
      ]
    },
    {
      "cell_type": "markdown",
      "metadata": {
        "id": "5WMDp0fWTPvA"
      },
      "source": [
        "### Single Image Prediction"
      ]
    },
    {
      "cell_type": "code",
      "execution_count": null,
      "metadata": {
        "id": "twp15gvaTPvA"
      },
      "outputs": [],
      "source": [
        "transform_index_to_disease = dataset.class_to_idx"
      ]
    },
    {
      "cell_type": "code",
      "execution_count": null,
      "metadata": {
        "id": "Ao2W3HxTTPvA"
      },
      "outputs": [],
      "source": [
        "transform_index_to_disease = dict(\n",
        "    [(value, key) for key, value in transform_index_to_disease.items()]\n",
        ")  # reverse the index"
      ]
    },
    {
      "cell_type": "code",
      "execution_count": null,
      "metadata": {
        "id": "KHcxyf4KTPvA"
      },
      "outputs": [],
      "source": [
        "data = pd.read_csv(\"disease_info.csv\", encoding=\"cp1252\")"
      ]
    },
    {
      "cell_type": "code",
      "execution_count": null,
      "metadata": {
        "id": "g0bu6HQxTPvB"
      },
      "outputs": [],
      "source": [
        "from PIL import Image\n",
        "import torchvision.transforms.functional as TF"
      ]
    },
    {
      "cell_type": "code",
      "execution_count": null,
      "metadata": {
        "id": "4G-pbqv6TPvB"
      },
      "outputs": [],
      "source": [
        "def single_prediction(image_path):\n",
        "    image = Image.open(image_path)\n",
        "    image = image.resize((224, 224))\n",
        "    input_data = TF.to_tensor(image)\n",
        "    input_data = input_data.view((-1, 3, 224, 224))\n",
        "    output = model(input_data)\n",
        "    output = output.detach().numpy()\n",
        "    index = np.argmax(output)\n",
        "    print(\"Original : \", image_path[12:-4])\n",
        "    pred_csv = data[\"disease_name\"][index]\n",
        "    print(pred_csv)"
      ]
    },
    {
      "cell_type": "code",
      "execution_count": null,
      "metadata": {
        "id": "zg7zNm9VTPvB"
      },
      "outputs": [],
      "source": [
        "single_prediction(\"test_images/Apple_ceder_apple_rust.JPG\")"
      ]
    },
    {
      "cell_type": "markdown",
      "metadata": {
        "id": "Ylig-B0BTPvB"
      },
      "source": [
        "### Wrong Prediction"
      ]
    },
    {
      "cell_type": "code",
      "execution_count": null,
      "metadata": {
        "id": "03op6_1cTPvB"
      },
      "outputs": [],
      "source": [
        "single_prediction(\"test_images/Apple_scab.JPG\")"
      ]
    },
    {
      "cell_type": "code",
      "execution_count": null,
      "metadata": {
        "id": "HSlBSGGITPvB"
      },
      "outputs": [],
      "source": [
        "single_prediction(\"test_images/Grape_esca.JPG\")"
      ]
    },
    {
      "cell_type": "code",
      "execution_count": null,
      "metadata": {
        "id": "P2hXRCK1TPvB"
      },
      "outputs": [],
      "source": [
        "single_prediction(\"test_images/apple_black_rot.JPG\")"
      ]
    },
    {
      "cell_type": "code",
      "execution_count": null,
      "metadata": {
        "id": "OfaGoe6qTPvB"
      },
      "outputs": [],
      "source": [
        "single_prediction(\"test_images/apple_healthy.JPG\")"
      ]
    },
    {
      "cell_type": "code",
      "execution_count": null,
      "metadata": {
        "id": "YY5DPlCvTPvC"
      },
      "outputs": [],
      "source": [
        "single_prediction(\"test_images/background_without_leaves.jpg\")"
      ]
    },
    {
      "cell_type": "code",
      "execution_count": null,
      "metadata": {
        "id": "SDSgSmlcTPvC"
      },
      "outputs": [],
      "source": [
        "single_prediction(\"test_images/blueberry_healthy.JPG\")"
      ]
    },
    {
      "cell_type": "code",
      "execution_count": null,
      "metadata": {
        "id": "5L0UQ9N9TPvC"
      },
      "outputs": [],
      "source": [
        "single_prediction(\"test_images/cherry_healthy.JPG\")"
      ]
    },
    {
      "cell_type": "code",
      "execution_count": null,
      "metadata": {
        "id": "m_pAP3twTPvC"
      },
      "outputs": [],
      "source": [
        "single_prediction(\"test_images/cherry_powdery_mildew.JPG\")"
      ]
    },
    {
      "cell_type": "code",
      "execution_count": null,
      "metadata": {
        "id": "xZ9POKymTPvC"
      },
      "outputs": [],
      "source": [
        "single_prediction(\"test_images/corn_cercospora_leaf.JPG\")"
      ]
    },
    {
      "cell_type": "code",
      "execution_count": null,
      "metadata": {
        "id": "NCS_DBKPTPvC"
      },
      "outputs": [],
      "source": [
        "single_prediction(\"test_images/corn_common_rust.JPG\")"
      ]
    },
    {
      "cell_type": "code",
      "execution_count": null,
      "metadata": {
        "id": "QwoUHICUTPvC"
      },
      "outputs": [],
      "source": [
        "single_prediction(\"test_images/corn_healthy.jpg\")"
      ]
    },
    {
      "cell_type": "code",
      "execution_count": null,
      "metadata": {
        "id": "yOJv0UNATPvC"
      },
      "outputs": [],
      "source": [
        "single_prediction(\"test_images/corn_northen_leaf_blight.JPG\")"
      ]
    },
    {
      "cell_type": "code",
      "execution_count": null,
      "metadata": {
        "id": "ehPNimY3TPvC"
      },
      "outputs": [],
      "source": [
        "single_prediction(\"test_images/grape_black_rot.JPG\")"
      ]
    },
    {
      "cell_type": "code",
      "execution_count": null,
      "metadata": {
        "id": "BS7dhnpATPvD"
      },
      "outputs": [],
      "source": [
        "single_prediction(\"test_images/grape_healthy.JPG\")"
      ]
    },
    {
      "cell_type": "code",
      "execution_count": null,
      "metadata": {
        "id": "MCg0w0MATPvD"
      },
      "outputs": [],
      "source": [
        "single_prediction(\"test_images/grape_leaf_blight.JPG\")"
      ]
    },
    {
      "cell_type": "code",
      "execution_count": null,
      "metadata": {
        "id": "5CVH-zD5TPvD"
      },
      "outputs": [],
      "source": [
        "single_prediction(\"test_images/orange_haunglongbing.JPG\")"
      ]
    },
    {
      "cell_type": "code",
      "execution_count": null,
      "metadata": {
        "id": "YhrV5EjHTPvD"
      },
      "outputs": [],
      "source": [
        "single_prediction(\"test_images/peach_bacterial_spot.JPG\")"
      ]
    },
    {
      "cell_type": "code",
      "execution_count": null,
      "metadata": {
        "id": "7n2-ugu-TPvD"
      },
      "outputs": [],
      "source": [
        "single_prediction(\"test_images/peach_healthy.JPG\")"
      ]
    },
    {
      "cell_type": "code",
      "execution_count": null,
      "metadata": {
        "id": "pBb__ujZTPvD"
      },
      "outputs": [],
      "source": [
        "single_prediction(\"test_images/pepper_bacterial_spot.JPG\")"
      ]
    },
    {
      "cell_type": "code",
      "execution_count": null,
      "metadata": {
        "id": "VJnKFaU2TPvD"
      },
      "outputs": [],
      "source": [
        "single_prediction(\"test_images/pepper_bell_healthy.JPG\")"
      ]
    },
    {
      "cell_type": "code",
      "execution_count": null,
      "metadata": {
        "id": "nOUXpWotTPvD"
      },
      "outputs": [],
      "source": [
        "single_prediction(\"test_images/potato_early_blight.JPG\")"
      ]
    },
    {
      "cell_type": "code",
      "execution_count": null,
      "metadata": {
        "id": "4iVmD2oATPvD"
      },
      "outputs": [],
      "source": [
        "single_prediction(\"test_images/potato_healthy.JPG\")"
      ]
    },
    {
      "cell_type": "code",
      "execution_count": null,
      "metadata": {
        "id": "Qg4xeAWNTPvE"
      },
      "outputs": [],
      "source": [
        "single_prediction(\"test_images/potato_late_blight.JPG\")"
      ]
    },
    {
      "cell_type": "code",
      "execution_count": null,
      "metadata": {
        "id": "TyQeJReOTPvE"
      },
      "outputs": [],
      "source": [
        "single_prediction(\"test_images/raspberry_healthy.JPG\")"
      ]
    },
    {
      "cell_type": "code",
      "execution_count": null,
      "metadata": {
        "id": "WPdSvqBFTPvE"
      },
      "outputs": [],
      "source": [
        "single_prediction(\"test_images/soyaben healthy.JPG\")"
      ]
    },
    {
      "cell_type": "code",
      "execution_count": null,
      "metadata": {
        "id": "vonV00h9TPvE"
      },
      "outputs": [],
      "source": [
        "single_prediction(\"test_images/potato_late_blight.JPG\")"
      ]
    },
    {
      "cell_type": "code",
      "execution_count": null,
      "metadata": {
        "id": "_oaDwAHyTPvE"
      },
      "outputs": [],
      "source": [
        "single_prediction(\"test_images/squash_powdery_mildew.JPG\")"
      ]
    },
    {
      "cell_type": "code",
      "execution_count": null,
      "metadata": {
        "id": "Z11hWwCXTPvE"
      },
      "outputs": [],
      "source": [
        "single_prediction(\"test_images/starwberry_healthy.JPG\")"
      ]
    },
    {
      "cell_type": "code",
      "execution_count": null,
      "metadata": {
        "id": "XzCdBbhjTPvE"
      },
      "outputs": [],
      "source": [
        "single_prediction(\"test_images/starwberry_leaf_scorch.JPG\")"
      ]
    },
    {
      "cell_type": "code",
      "execution_count": null,
      "metadata": {
        "id": "1WrQ9yQcTPvE"
      },
      "outputs": [],
      "source": [
        "single_prediction(\"test_images/tomato_bacterial_spot.JPG\")"
      ]
    },
    {
      "cell_type": "code",
      "execution_count": null,
      "metadata": {
        "id": "Ib3u32VqTPvE"
      },
      "outputs": [],
      "source": [
        "single_prediction(\"test_images/tomato_early_blight.JPG\")"
      ]
    },
    {
      "cell_type": "code",
      "execution_count": null,
      "metadata": {
        "id": "PXo-0-LnTPvE"
      },
      "outputs": [],
      "source": [
        "single_prediction(\"test_images/tomato_healthy.JPG\")"
      ]
    },
    {
      "cell_type": "code",
      "execution_count": null,
      "metadata": {
        "id": "3EctSKMzTPvF"
      },
      "outputs": [],
      "source": [
        "single_prediction(\"test_images/tomato_late_blight.JPG\")"
      ]
    },
    {
      "cell_type": "code",
      "execution_count": null,
      "metadata": {
        "id": "J2IiqrTGTPvF"
      },
      "outputs": [],
      "source": [
        "single_prediction(\"test_images/tomato_leaf_mold.JPG\")"
      ]
    },
    {
      "cell_type": "code",
      "execution_count": null,
      "metadata": {
        "id": "z8wJ7XVXTPvF"
      },
      "outputs": [],
      "source": [
        "single_prediction(\"test_images/tomato_mosaic_virus.JPG\")"
      ]
    },
    {
      "cell_type": "code",
      "execution_count": null,
      "metadata": {
        "id": "bd4adntDTPvF"
      },
      "outputs": [],
      "source": [
        "single_prediction(\"test_images/tomato_septoria_leaf_spot.JPG\")"
      ]
    },
    {
      "cell_type": "code",
      "execution_count": null,
      "metadata": {
        "id": "ewmoYQnCTPvF"
      },
      "outputs": [],
      "source": [
        "single_prediction(\"test_images/tomato_spider_mites_two_spotted_spider_mites.JPG\")"
      ]
    },
    {
      "cell_type": "code",
      "execution_count": null,
      "metadata": {
        "id": "Kya48N_NTPvF"
      },
      "outputs": [],
      "source": [
        "single_prediction(\"test_images/tomato_target_spot.JPG\")"
      ]
    },
    {
      "cell_type": "code",
      "execution_count": null,
      "metadata": {
        "id": "DqgQPdIYTPvF"
      },
      "outputs": [],
      "source": [
        "single_prediction(\"test_images/tomato_yellow_leaf_curl_virus.JPG\")"
      ]
    },
    {
      "cell_type": "code",
      "execution_count": null,
      "metadata": {
        "id": "CZf8BpJrTPvF"
      },
      "outputs": [],
      "source": []
    }
  ],
  "metadata": {
    "colab": {
      "provenance": []
    },
    "kernelspec": {
      "display_name": "Python 3 (ipykernel)",
      "language": "python",
      "name": "python3"
    },
    "language_info": {
      "codemirror_mode": {
        "name": "ipython",
        "version": 3
      },
      "file_extension": ".py",
      "mimetype": "text/x-python",
      "name": "python",
      "nbconvert_exporter": "python",
      "pygments_lexer": "ipython3",
      "version": "3.9.7"
    },
    "varInspector": {
      "cols": {
        "lenName": 16,
        "lenType": 16,
        "lenVar": 40
      },
      "kernels_config": {
        "python": {
          "delete_cmd_postfix": "",
          "delete_cmd_prefix": "del ",
          "library": "var_list.py",
          "varRefreshCmd": "print(var_dic_list())"
        },
        "r": {
          "delete_cmd_postfix": ") ",
          "delete_cmd_prefix": "rm(",
          "library": "var_list.r",
          "varRefreshCmd": "cat(var_dic_list()) "
        }
      },
      "types_to_exclude": [
        "module",
        "function",
        "builtin_function_or_method",
        "instance",
        "_Feature"
      ],
      "window_display": false
    }
  },
  "nbformat": 4,
  "nbformat_minor": 0
}